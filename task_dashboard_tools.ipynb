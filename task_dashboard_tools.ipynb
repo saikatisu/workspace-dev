{
 "cells": [
  {
   "cell_type": "markdown",
   "id": "15e3bc2a",
   "metadata": {},
   "source": [
    "# 🛠 タスク管理スクリプト実行ノートブック\n",
    "このノートブックは、ダッシュボードに記載された個人スケジュールから以下を自動実行します：\n",
    "\n",
    "- タスクファイルの自動生成（task/以下）\n",
    "- ダッシュボードへのリンク自動挿入\n",
    "- スケジュールタイムラインの更新"
   ]
  },
  {
   "cell_type": "code",
   "execution_count": 1,
   "id": "4d94454a",
   "metadata": {},
   "outputs": [
    {
     "name": "stdout",
     "output_type": "stream",
     "text": [
      "既存：task/etc/--------.md\n",
      "作成：task/specs/ハッキングの準備を使用.md\n",
      "作成：task/bugs/初めてのハッキング.md\n",
      "作成：task/specs/悪用厳禁のエクスプロイドを試そう.md\n",
      "作成：task/bugs/よくある脆弱性を使って怪しいショップで遊ぼう.md\n",
      "作成：task/bugs/Webフォームから侵入しよう.md\n",
      "作成：task/bugs/Active_Directoryのハッキング実施.md\n",
      "作成：task/bugs/Word_Pressのハッキング実施.md\n",
      "作成：task/bugs/今後の指針&_KoTHにトライ.md\n",
      "📝 ダッシュボードのリンクを更新しました。\n"
     ]
    }
   ],
   "source": [
    "!python3 ./scripts/generate_tasks_from_dashboard.py"
   ]
  }
 ],
 "metadata": {
  "kernelspec": {
   "display_name": ".venv",
   "language": "python",
   "name": "python3"
  },
  "language_info": {
   "codemirror_mode": {
    "name": "ipython",
    "version": 3
   },
   "file_extension": ".py",
   "mimetype": "text/x-python",
   "name": "python",
   "nbconvert_exporter": "python",
   "pygments_lexer": "ipython3",
   "version": "3.13.5"
  }
 },
 "nbformat": 4,
 "nbformat_minor": 5
}
